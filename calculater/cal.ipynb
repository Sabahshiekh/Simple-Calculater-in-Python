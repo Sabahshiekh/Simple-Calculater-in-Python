{
 "cells": [
  {
   "cell_type": "code",
   "execution_count": 8,
   "metadata": {},
   "outputs": [
    {
     "name": "stdout",
     "output_type": "stream",
     "text": [
      "Simple Calculater\n",
      "\n",
      "      Addition +\n",
      "      Subtraction -\n",
      "      Divide /\n",
      "      Multipication *\n",
      "      Modulas %\n",
      "      \n",
      "Nothing to perform operation , Invalid Operation\n"
     ]
    }
   ],
   "source": [
    "print(\"Simple Calculater\")\n",
    "print('''\n",
    "      Addition +\n",
    "      Subtraction -\n",
    "      Divide /\n",
    "      Multipication *\n",
    "      Modulas %\n",
    "      '''\n",
    "      )\n",
    "num1 = float(input(\"Enter first Value\"))\n",
    "num2 = float(input(\"Enter second Value\"))\n",
    "opr = input(\"Select Operation..(+,-,*,/,%)\")\n",
    "if opr==\"+\":\n",
    "    print(num1+num2)\n",
    "elif opr==\"-\":\n",
    "    print(num1-num2)\n",
    "elif opr==\"*\":\n",
    "    print(num1*num2)\n",
    "elif opr==\"/\":\n",
    "    print(num1/num2)\n",
    "elif opr==\"%\":\n",
    "    print(num1%num2)\n",
    "else:\n",
    "    print(\"Nothing to perform operation , Invalid Operation\") \n",
    "       "
   ]
  }
 ],
 "metadata": {
  "kernelspec": {
   "display_name": "Python 3",
   "language": "python",
   "name": "python3"
  },
  "language_info": {
   "codemirror_mode": {
    "name": "ipython",
    "version": 3
   },
   "file_extension": ".py",
   "mimetype": "text/x-python",
   "name": "python",
   "nbconvert_exporter": "python",
   "pygments_lexer": "ipython3",
   "version": "3.12.6"
  }
 },
 "nbformat": 4,
 "nbformat_minor": 2
}
